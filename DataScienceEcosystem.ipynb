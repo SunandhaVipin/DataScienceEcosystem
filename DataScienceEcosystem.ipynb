{
 "cells": [
  {
   "cell_type": "markdown",
   "id": "119bf2c0-a243-46ce-80dd-f0128056f498",
   "metadata": {},
   "source": [
    "# Data Science Tools and Ecosystem"
   ]
  },
  {
   "cell_type": "markdown",
   "id": "305abc9e-25aa-444a-9864-b11d98cdae83",
   "metadata": {},
   "source": [
    "In this notebook, Data Science Tools and Ecosystem are sumarized"
   ]
  },
  {
   "cell_type": "code",
   "execution_count": null,
   "id": "250a2efd-7e5d-4117-996d-31581dd18f3d",
   "metadata": {},
   "outputs": [],
   "source": [
    "Some of the popular languages that Data Scientists use are:\n",
    "1. Python\n",
    "2. SQL\n",
    "3. R"
   ]
  },
  {
   "cell_type": "markdown",
   "id": "20c9a56c-4a98-4461-a3ef-27a3187df469",
   "metadata": {},
   "source": [
    "Some of the commonly used libraries used by Data Scientists include:\n",
    "1. Keras\n",
    "2. TensorFlow\n",
    "3. Scikit-learn\n",
    "4. Plotly\n",
    "5. Matplotlib"
   ]
  },
  {
   "cell_type": "markdown",
   "id": "409216cf-a1a7-4beb-b8e1-0a3c57bd8162",
   "metadata": {},
   "source": [
    "|Data Science Tools|\n",
    "|------------------|\n",
    "|Anaconda|\n",
    "|Visual Studio Code(VSC)|\n",
    "|PyCharm|"
   ]
  },
  {
   "cell_type": "markdown",
   "id": "92cf8053-9b4d-4fd5-af1d-600778f2d067",
   "metadata": {},
   "source": [
    "### Below are a few examples of evaluating arithmetic expressions in Python"
   ]
  },
  {
   "cell_type": "code",
   "execution_count": 1,
   "id": "75baa23b-7075-4202-a89d-4bd03315c18a",
   "metadata": {},
   "outputs": [
    {
     "name": "stdout",
     "output_type": "stream",
     "text": [
      "17\n"
     ]
    }
   ],
   "source": [
    "#This a simple arithmetic expression to mutiply then add integers\n",
    "print((3*4)+5)"
   ]
  },
  {
   "cell_type": "code",
   "execution_count": 2,
   "id": "539c60c1-37ef-439d-b3df-c8daba49aecd",
   "metadata": {},
   "outputs": [
    {
     "name": "stdout",
     "output_type": "stream",
     "text": [
      "3.3333333333333335\n"
     ]
    }
   ],
   "source": [
    "#This will convert 200 minutes to hours by diving by 60\n",
    "print(200/60)"
   ]
  },
  {
   "cell_type": "markdown",
   "id": "8cb3d4b0-ac2d-4438-a3c5-929042d4604b",
   "metadata": {},
   "source": [
    "List popular languages for Data Science\n",
    "+ Python\n",
    "+ SQL\n",
    "+ R\n",
    "+ Julia\n",
    "+ MongoDB"
   ]
  },
  {
   "cell_type": "markdown",
   "id": "3d768961-8128-4524-9441-492f60c8f83f",
   "metadata": {},
   "source": [
    "## Author\n",
    "Sunandha Vipin Dev Kumar"
   ]
  },
  {
   "cell_type": "code",
   "execution_count": null,
   "id": "df7d38fe-2d77-4c7f-97db-846d4b8fbc6b",
   "metadata": {},
   "outputs": [],
   "source": []
  }
 ],
 "metadata": {
  "kernelspec": {
   "display_name": "Python 3 (ipykernel)",
   "language": "python",
   "name": "python3"
  },
  "language_info": {
   "codemirror_mode": {
    "name": "ipython",
    "version": 3
   },
   "file_extension": ".py",
   "mimetype": "text/x-python",
   "name": "python",
   "nbconvert_exporter": "python",
   "pygments_lexer": "ipython3",
   "version": "3.13.1"
  }
 },
 "nbformat": 4,
 "nbformat_minor": 5
}
